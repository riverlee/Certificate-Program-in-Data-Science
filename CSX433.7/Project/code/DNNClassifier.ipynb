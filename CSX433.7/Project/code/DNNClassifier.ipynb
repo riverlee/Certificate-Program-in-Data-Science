{
 "cells": [
  {
   "cell_type": "markdown",
   "metadata": {},
   "source": [
    "## Tensorflow DNNClassifer\n",
    "\n",
    "- Data are stored in pickle by prepare_data sript"
   ]
  },
  {
   "cell_type": "markdown",
   "metadata": {},
   "source": [
    "### Load packages"
   ]
  },
  {
   "cell_type": "code",
   "execution_count": 1,
   "metadata": {
    "collapsed": true
   },
   "outputs": [],
   "source": [
    "import pickle\n",
    "import numpy as np\n",
    "import pandas as pd\n",
    "import tensorflow as tf\n",
    "from sklearn.preprocessing import scale\n",
    "import matplotlib.pyplot as plt"
   ]
  },
  {
   "cell_type": "markdown",
   "metadata": {},
   "source": [
    "### Load data"
   ]
  },
  {
   "cell_type": "code",
   "execution_count": 2,
   "metadata": {},
   "outputs": [
    {
     "data": {
      "text/plain": [
       "['test', 'train', 'validation']"
      ]
     },
     "execution_count": 2,
     "metadata": {},
     "output_type": "execute_result"
    }
   ],
   "source": [
    "## load data and scalled it\n",
    "with open('../data/features.pickle', 'rb') as handle:\n",
    "    d = pickle.load(handle)\n",
    "    \n",
    "d['train']['features'][np.isnan(d['train']['features'])] = 0\n",
    "d['train']['features'] = scale( d['train']['features'], axis=0, with_mean=True, with_std=True, copy=True )\n",
    "\n",
    "d['validation']['features'][np.isnan(d['validation']['features'])] = 0\n",
    "d['validation']['features'] = scale( d['validation']['features'], axis=0, with_mean=True, with_std=True, copy=True )\n",
    "\n",
    "\n",
    "d['test']['features'][np.isnan(d['test']['features'])] = 0\n",
    "d['test']['features'] =scale(d['test']['features'], axis=0, with_mean=True, with_std=True, copy=True)\n",
    "\n",
    "## covert into dummy values\n",
    "d.keys()"
   ]
  },
  {
   "cell_type": "markdown",
   "metadata": {},
   "source": [
    "### DNNClassifer analysis by tensorflow"
   ]
  },
  {
   "cell_type": "code",
   "execution_count": 3,
   "metadata": {},
   "outputs": [
    {
     "name": "stdout",
     "output_type": "stream",
     "text": [
      "INFO:tensorflow:Using default config.\n",
      "INFO:tensorflow:Using config: {'_save_checkpoints_secs': 600, '_session_config': None, '_keep_checkpoint_max': 5, '_task_type': 'worker', '_train_distribute': None, '_is_chief': True, '_cluster_spec': <tensorflow.python.training.server_lib.ClusterSpec object at 0x1a1707e110>, '_evaluation_master': '', '_save_checkpoints_steps': None, '_keep_checkpoint_every_n_hours': 10000, '_service': None, '_num_ps_replicas': 0, '_tf_random_seed': None, '_master': '', '_num_worker_replicas': 1, '_task_id': 0, '_log_step_count_steps': 100, '_model_dir': './tmp/dnn_model', '_global_id_in_cluster': 0, '_save_summary_steps': 100}\n",
      "INFO:tensorflow:Calling model_fn.\n",
      "INFO:tensorflow:Done calling model_fn.\n",
      "INFO:tensorflow:Create CheckpointSaverHook.\n",
      "INFO:tensorflow:Graph was finalized.\n",
      "INFO:tensorflow:Running local_init_op.\n",
      "INFO:tensorflow:Done running local_init_op.\n",
      "INFO:tensorflow:Saving checkpoints for 1 into ./tmp/dnn_model/model.ckpt.\n",
      "INFO:tensorflow:loss = 230.001, step = 1\n",
      "INFO:tensorflow:global_step/sec: 100.913\n",
      "INFO:tensorflow:loss = 163.735, step = 101 (0.997 sec)\n",
      "INFO:tensorflow:global_step/sec: 145.778\n",
      "INFO:tensorflow:loss = 182.253, step = 201 (0.682 sec)\n",
      "INFO:tensorflow:global_step/sec: 131.272\n",
      "INFO:tensorflow:loss = 145.975, step = 301 (0.763 sec)\n",
      "INFO:tensorflow:global_step/sec: 121.479\n",
      "INFO:tensorflow:loss = 159.627, step = 401 (0.826 sec)\n",
      "INFO:tensorflow:global_step/sec: 124.312\n",
      "INFO:tensorflow:loss = 155.033, step = 501 (0.803 sec)\n",
      "INFO:tensorflow:global_step/sec: 128.434\n",
      "INFO:tensorflow:loss = 113.053, step = 601 (0.780 sec)\n",
      "INFO:tensorflow:global_step/sec: 117.765\n",
      "INFO:tensorflow:loss = 145.087, step = 701 (0.848 sec)\n",
      "INFO:tensorflow:global_step/sec: 133.449\n",
      "INFO:tensorflow:loss = 140.608, step = 801 (0.749 sec)\n",
      "INFO:tensorflow:global_step/sec: 145.624\n",
      "INFO:tensorflow:loss = 134.988, step = 901 (0.689 sec)\n",
      "INFO:tensorflow:global_step/sec: 125.121\n",
      "INFO:tensorflow:loss = 145.05, step = 1001 (0.797 sec)\n",
      "INFO:tensorflow:global_step/sec: 124.375\n",
      "INFO:tensorflow:loss = 131.387, step = 1101 (0.802 sec)\n",
      "INFO:tensorflow:global_step/sec: 150.441\n",
      "INFO:tensorflow:loss = 120.276, step = 1201 (0.665 sec)\n",
      "INFO:tensorflow:global_step/sec: 155.865\n",
      "INFO:tensorflow:loss = 126.074, step = 1301 (0.642 sec)\n",
      "INFO:tensorflow:global_step/sec: 160.576\n",
      "INFO:tensorflow:loss = 124.397, step = 1401 (0.623 sec)\n",
      "INFO:tensorflow:global_step/sec: 149.01\n",
      "INFO:tensorflow:loss = 125.383, step = 1501 (0.672 sec)\n",
      "INFO:tensorflow:global_step/sec: 145.16\n",
      "INFO:tensorflow:loss = 126.49, step = 1601 (0.688 sec)\n",
      "INFO:tensorflow:global_step/sec: 154.328\n",
      "INFO:tensorflow:loss = 135.078, step = 1701 (0.648 sec)\n",
      "INFO:tensorflow:global_step/sec: 145.115\n",
      "INFO:tensorflow:loss = 137.575, step = 1801 (0.690 sec)\n",
      "INFO:tensorflow:global_step/sec: 139.45\n",
      "INFO:tensorflow:loss = 136.221, step = 1901 (0.717 sec)\n",
      "INFO:tensorflow:global_step/sec: 148.748\n",
      "INFO:tensorflow:loss = 128.964, step = 2001 (0.673 sec)\n",
      "INFO:tensorflow:global_step/sec: 141.611\n",
      "INFO:tensorflow:loss = 116.039, step = 2101 (0.705 sec)\n",
      "INFO:tensorflow:global_step/sec: 128.735\n",
      "INFO:tensorflow:loss = 121.722, step = 2201 (0.779 sec)\n",
      "INFO:tensorflow:global_step/sec: 137.825\n",
      "INFO:tensorflow:loss = 111.729, step = 2301 (0.724 sec)\n",
      "INFO:tensorflow:global_step/sec: 143.436\n",
      "INFO:tensorflow:loss = 106.593, step = 2401 (0.697 sec)\n",
      "INFO:tensorflow:global_step/sec: 125.637\n",
      "INFO:tensorflow:loss = 125.903, step = 2501 (0.797 sec)\n",
      "INFO:tensorflow:global_step/sec: 124.411\n",
      "INFO:tensorflow:loss = 129.245, step = 2601 (0.804 sec)\n",
      "INFO:tensorflow:global_step/sec: 133.297\n",
      "INFO:tensorflow:loss = 119.983, step = 2701 (0.749 sec)\n",
      "INFO:tensorflow:global_step/sec: 127.843\n",
      "INFO:tensorflow:loss = 111.353, step = 2801 (0.782 sec)\n",
      "INFO:tensorflow:global_step/sec: 124.429\n",
      "INFO:tensorflow:loss = 118.386, step = 2901 (0.805 sec)\n",
      "INFO:tensorflow:global_step/sec: 127.912\n",
      "INFO:tensorflow:loss = 128.047, step = 3001 (0.782 sec)\n",
      "INFO:tensorflow:global_step/sec: 142.117\n",
      "INFO:tensorflow:loss = 134.368, step = 3101 (0.702 sec)\n",
      "INFO:tensorflow:global_step/sec: 136.19\n",
      "INFO:tensorflow:loss = 107.806, step = 3201 (0.737 sec)\n",
      "INFO:tensorflow:global_step/sec: 134.682\n",
      "INFO:tensorflow:loss = 107.589, step = 3301 (0.739 sec)\n",
      "INFO:tensorflow:global_step/sec: 117.82\n",
      "INFO:tensorflow:loss = 105.483, step = 3401 (0.851 sec)\n",
      "INFO:tensorflow:global_step/sec: 125.468\n",
      "INFO:tensorflow:loss = 106.704, step = 3501 (0.795 sec)\n",
      "INFO:tensorflow:global_step/sec: 130.448\n",
      "INFO:tensorflow:loss = 121.445, step = 3601 (0.767 sec)\n",
      "INFO:tensorflow:global_step/sec: 152.767\n",
      "INFO:tensorflow:loss = 103.625, step = 3701 (0.655 sec)\n",
      "INFO:tensorflow:global_step/sec: 141.263\n",
      "INFO:tensorflow:loss = 116.544, step = 3801 (0.708 sec)\n",
      "INFO:tensorflow:global_step/sec: 139.778\n",
      "INFO:tensorflow:loss = 100.255, step = 3901 (0.714 sec)\n",
      "INFO:tensorflow:global_step/sec: 148.854\n",
      "INFO:tensorflow:loss = 113.139, step = 4001 (0.673 sec)\n",
      "INFO:tensorflow:global_step/sec: 143.086\n",
      "INFO:tensorflow:loss = 121.917, step = 4101 (0.698 sec)\n",
      "INFO:tensorflow:global_step/sec: 134.692\n",
      "INFO:tensorflow:loss = 113.595, step = 4201 (0.743 sec)\n",
      "INFO:tensorflow:global_step/sec: 139.462\n",
      "INFO:tensorflow:loss = 101.166, step = 4301 (0.717 sec)\n",
      "INFO:tensorflow:global_step/sec: 147.729\n",
      "INFO:tensorflow:loss = 114.582, step = 4401 (0.677 sec)\n",
      "INFO:tensorflow:global_step/sec: 138.916\n",
      "INFO:tensorflow:loss = 107.344, step = 4501 (0.719 sec)\n",
      "INFO:tensorflow:global_step/sec: 123.035\n",
      "INFO:tensorflow:loss = 136.262, step = 4601 (0.815 sec)\n",
      "INFO:tensorflow:global_step/sec: 124.163\n",
      "INFO:tensorflow:loss = 102.951, step = 4701 (0.806 sec)\n",
      "INFO:tensorflow:global_step/sec: 125.11\n",
      "INFO:tensorflow:loss = 110.352, step = 4801 (0.797 sec)\n",
      "INFO:tensorflow:global_step/sec: 128.062\n",
      "INFO:tensorflow:loss = 114.636, step = 4901 (0.781 sec)\n",
      "INFO:tensorflow:global_step/sec: 119.47\n",
      "INFO:tensorflow:loss = 133.594, step = 5001 (0.837 sec)\n",
      "INFO:tensorflow:global_step/sec: 130.635\n",
      "INFO:tensorflow:loss = 103.788, step = 5101 (0.767 sec)\n",
      "INFO:tensorflow:global_step/sec: 135.315\n",
      "INFO:tensorflow:loss = 107.235, step = 5201 (0.738 sec)\n",
      "INFO:tensorflow:global_step/sec: 157.905\n",
      "INFO:tensorflow:loss = 94.0339, step = 5301 (0.633 sec)\n",
      "INFO:tensorflow:global_step/sec: 156.168\n",
      "INFO:tensorflow:loss = 124.834, step = 5401 (0.640 sec)\n",
      "INFO:tensorflow:global_step/sec: 162.106\n",
      "INFO:tensorflow:loss = 101.801, step = 5501 (0.618 sec)\n",
      "INFO:tensorflow:global_step/sec: 163.379\n",
      "INFO:tensorflow:loss = 99.4822, step = 5601 (0.616 sec)\n",
      "INFO:tensorflow:global_step/sec: 154.626\n",
      "INFO:tensorflow:loss = 117.228, step = 5701 (0.642 sec)\n",
      "INFO:tensorflow:global_step/sec: 126.742\n",
      "INFO:tensorflow:loss = 98.2605, step = 5801 (0.790 sec)\n",
      "INFO:tensorflow:global_step/sec: 141.545\n",
      "INFO:tensorflow:loss = 101.385, step = 5901 (0.707 sec)\n",
      "INFO:tensorflow:global_step/sec: 141.131\n",
      "INFO:tensorflow:loss = 107.975, step = 6001 (0.709 sec)\n",
      "INFO:tensorflow:global_step/sec: 127.355\n",
      "INFO:tensorflow:loss = 112.902, step = 6101 (0.786 sec)\n",
      "INFO:tensorflow:global_step/sec: 152.316\n",
      "INFO:tensorflow:loss = 117.005, step = 6201 (0.655 sec)\n",
      "INFO:tensorflow:global_step/sec: 158.007\n",
      "INFO:tensorflow:loss = 119.399, step = 6301 (0.634 sec)\n",
      "INFO:tensorflow:global_step/sec: 154.819\n",
      "INFO:tensorflow:loss = 106.562, step = 6401 (0.646 sec)\n",
      "INFO:tensorflow:global_step/sec: 151.512\n",
      "INFO:tensorflow:loss = 112.096, step = 6501 (0.660 sec)\n",
      "INFO:tensorflow:global_step/sec: 121.628\n",
      "INFO:tensorflow:loss = 90.3382, step = 6601 (0.821 sec)\n",
      "INFO:tensorflow:global_step/sec: 131.149\n",
      "INFO:tensorflow:loss = 109.375, step = 6701 (0.766 sec)\n",
      "INFO:tensorflow:global_step/sec: 115.124\n",
      "INFO:tensorflow:loss = 94.694, step = 6801 (0.866 sec)\n",
      "INFO:tensorflow:global_step/sec: 124.89\n",
      "INFO:tensorflow:loss = 113.169, step = 6901 (0.800 sec)\n",
      "INFO:tensorflow:global_step/sec: 135.706\n",
      "INFO:tensorflow:loss = 115.54, step = 7001 (0.737 sec)\n",
      "INFO:tensorflow:global_step/sec: 158.552\n",
      "INFO:tensorflow:loss = 107.848, step = 7101 (0.630 sec)\n",
      "INFO:tensorflow:global_step/sec: 157.446\n",
      "INFO:tensorflow:loss = 101.561, step = 7201 (0.636 sec)\n",
      "INFO:tensorflow:global_step/sec: 163.375\n",
      "INFO:tensorflow:loss = 100.031, step = 7301 (0.611 sec)\n",
      "INFO:tensorflow:global_step/sec: 156.455\n",
      "INFO:tensorflow:loss = 104.875, step = 7401 (0.639 sec)\n",
      "INFO:tensorflow:global_step/sec: 144.693\n"
     ]
    },
    {
     "name": "stdout",
     "output_type": "stream",
     "text": [
      "INFO:tensorflow:loss = 125.51, step = 7501 (0.693 sec)\n",
      "INFO:tensorflow:global_step/sec: 150.715\n",
      "INFO:tensorflow:loss = 109.307, step = 7601 (0.665 sec)\n",
      "INFO:tensorflow:global_step/sec: 154.759\n",
      "INFO:tensorflow:loss = 93.4602, step = 7701 (0.644 sec)\n",
      "INFO:tensorflow:global_step/sec: 149.675\n",
      "INFO:tensorflow:loss = 103.6, step = 7801 (0.669 sec)\n",
      "INFO:tensorflow:global_step/sec: 149.41\n",
      "INFO:tensorflow:loss = 113.559, step = 7901 (0.668 sec)\n",
      "INFO:tensorflow:global_step/sec: 143.012\n",
      "INFO:tensorflow:loss = 92.0994, step = 8001 (0.701 sec)\n",
      "INFO:tensorflow:global_step/sec: 154.721\n",
      "INFO:tensorflow:loss = 126.311, step = 8101 (0.646 sec)\n",
      "INFO:tensorflow:global_step/sec: 136.006\n",
      "INFO:tensorflow:loss = 110.187, step = 8201 (0.734 sec)\n",
      "INFO:tensorflow:global_step/sec: 157.916\n",
      "INFO:tensorflow:loss = 107.968, step = 8301 (0.633 sec)\n",
      "INFO:tensorflow:global_step/sec: 145.624\n",
      "INFO:tensorflow:loss = 98.2706, step = 8401 (0.688 sec)\n",
      "INFO:tensorflow:global_step/sec: 142.038\n",
      "INFO:tensorflow:loss = 113.726, step = 8501 (0.704 sec)\n",
      "INFO:tensorflow:global_step/sec: 154.338\n",
      "INFO:tensorflow:loss = 116.708, step = 8601 (0.647 sec)\n",
      "INFO:tensorflow:global_step/sec: 154.805\n",
      "INFO:tensorflow:loss = 99.6299, step = 8701 (0.646 sec)\n",
      "INFO:tensorflow:global_step/sec: 152.807\n",
      "INFO:tensorflow:loss = 111.449, step = 8801 (0.654 sec)\n",
      "INFO:tensorflow:global_step/sec: 150.378\n",
      "INFO:tensorflow:loss = 104.636, step = 8901 (0.665 sec)\n",
      "INFO:tensorflow:global_step/sec: 164.317\n",
      "INFO:tensorflow:loss = 102.775, step = 9001 (0.610 sec)\n",
      "INFO:tensorflow:global_step/sec: 136.007\n",
      "INFO:tensorflow:loss = 124.299, step = 9101 (0.737 sec)\n",
      "INFO:tensorflow:global_step/sec: 120.722\n",
      "INFO:tensorflow:loss = 112.684, step = 9201 (0.826 sec)\n",
      "INFO:tensorflow:global_step/sec: 128.315\n",
      "INFO:tensorflow:loss = 105.371, step = 9301 (0.780 sec)\n",
      "INFO:tensorflow:global_step/sec: 127.87\n",
      "INFO:tensorflow:loss = 110.534, step = 9401 (0.783 sec)\n",
      "INFO:tensorflow:global_step/sec: 124.806\n",
      "INFO:tensorflow:loss = 103.468, step = 9501 (0.802 sec)\n",
      "INFO:tensorflow:global_step/sec: 126.864\n",
      "INFO:tensorflow:loss = 106.816, step = 9601 (0.789 sec)\n",
      "INFO:tensorflow:global_step/sec: 120.153\n",
      "INFO:tensorflow:loss = 94.5188, step = 9701 (0.830 sec)\n",
      "INFO:tensorflow:global_step/sec: 151.017\n",
      "INFO:tensorflow:loss = 95.6987, step = 9801 (0.662 sec)\n",
      "INFO:tensorflow:global_step/sec: 150.543\n",
      "INFO:tensorflow:loss = 93.4232, step = 9901 (0.664 sec)\n",
      "INFO:tensorflow:Saving checkpoints for 10000 into ./tmp/dnn_model/model.ckpt.\n",
      "INFO:tensorflow:Loss for final step: 97.4476.\n"
     ]
    },
    {
     "data": {
      "text/plain": [
       "<tensorflow.python.estimator.canned.dnn.DNNClassifier at 0x1a177ee850>"
      ]
     },
     "execution_count": 3,
     "metadata": {},
     "output_type": "execute_result"
    }
   ],
   "source": [
    "### Tensorflow DNN\n",
    "feature_columns = [tf.feature_column.numeric_column(\"x\",shape=[1,188])]\n",
    "\n",
    "# Build 2 layer DNN classifier\n",
    "classifier = tf.estimator.DNNClassifier(\n",
    "    feature_columns=feature_columns,\n",
    "    hidden_units=[100,100,100],\n",
    "    optimizer=tf.train.AdamOptimizer(1e-4),\n",
    "    n_classes=3,\n",
    "    dropout=0.1,\n",
    "    model_dir=\"./tmp/dnn_model\"\n",
    ")\n",
    "\n",
    "# Define the training inputs\n",
    "train_input_fn = tf.estimator.inputs.numpy_input_fn(\n",
    "    x={\"x\": d['train']['features']},\n",
    "    y=d['train']['label'],\n",
    "    num_epochs=None,\n",
    "    batch_size=200,\n",
    "    shuffle=True\n",
    ")\n",
    "\n",
    "classifier.train(input_fn=train_input_fn, steps=10000)\n"
   ]
  },
  {
   "cell_type": "markdown",
   "metadata": {},
   "source": [
    "### Accuracy on the validation dataset"
   ]
  },
  {
   "cell_type": "code",
   "execution_count": 4,
   "metadata": {},
   "outputs": [
    {
     "name": "stdout",
     "output_type": "stream",
     "text": [
      "INFO:tensorflow:Calling model_fn.\n",
      "INFO:tensorflow:Done calling model_fn.\n",
      "INFO:tensorflow:Starting evaluation at 2018-06-26-00:10:44\n",
      "INFO:tensorflow:Graph was finalized.\n",
      "INFO:tensorflow:Restoring parameters from ./tmp/dnn_model/model.ckpt-10000\n",
      "INFO:tensorflow:Running local_init_op.\n",
      "INFO:tensorflow:Done running local_init_op.\n",
      "INFO:tensorflow:Finished evaluation at 2018-06-26-00:10:45\n",
      "INFO:tensorflow:Saving dict for global step 10000: accuracy = 0.790657, average_loss = 0.526593, global_step = 10000, loss = 67.268\n",
      "\n",
      "Validation Accuracy: 79.065657%\n",
      "\n"
     ]
    }
   ],
   "source": [
    "# Define the test inputs\n",
    "validation_input_fn = tf.estimator.inputs.numpy_input_fn(\n",
    "    x={\"x\": d['validation']['features']},\n",
    "    y=d['validation']['label'],\n",
    "    num_epochs=1,\n",
    "    shuffle=False\n",
    ")\n",
    "\n",
    "# Evaluate accuracy\n",
    "accuracy_score = classifier.evaluate(input_fn=validation_input_fn)[\"accuracy\"]\n",
    "print(\"\\nValidation Accuracy: {0:f}%\\n\".format(accuracy_score*100))"
   ]
  },
  {
   "cell_type": "markdown",
   "metadata": {},
   "source": [
    "### Output prediction on the testing dataset to be evaluated by drivendata.org"
   ]
  },
  {
   "cell_type": "code",
   "execution_count": 5,
   "metadata": {},
   "outputs": [
    {
     "name": "stdout",
     "output_type": "stream",
     "text": [
      "INFO:tensorflow:Calling model_fn.\n",
      "INFO:tensorflow:Done calling model_fn.\n",
      "INFO:tensorflow:Graph was finalized.\n",
      "INFO:tensorflow:Restoring parameters from ./tmp/dnn_model/model.ckpt-10000\n",
      "INFO:tensorflow:Running local_init_op.\n",
      "INFO:tensorflow:Done running local_init_op.\n"
     ]
    }
   ],
   "source": [
    "test_input_fn = tf.estimator.inputs.numpy_input_fn(\n",
    "    x={\"x\": d['test']['features']},\n",
    "    shuffle=False\n",
    ")\n",
    "\n",
    "## Output prediction for test, evalucate it through https://www.drivendata.org/\n",
    "pred = [p['class_ids'][0]  for p in classifier.predict(input_fn=test_input_fn)]\n",
    "mapping = dict(enumerate(d['train']['label_original'].cat.categories))\n",
    "pred_label = [mapping[i] for i in pred ]\n",
    "\n",
    "outd = pd.DataFrame({\"id\":d['test'][\"id\"]['id'].tolist(),\"status_group\": pred_label})\n",
    "\n",
    "outd.to_csv(path_or_buf=\"../result/TF-DNN-predctions.csv\",index=False)"
   ]
  },
  {
   "cell_type": "markdown",
   "metadata": {},
   "source": [
    "### Output package versions used"
   ]
  },
  {
   "cell_type": "code",
   "execution_count": 6,
   "metadata": {},
   "outputs": [
    {
     "name": "stdout",
     "output_type": "stream",
     "text": [
      "numpy\t1.13.3\n",
      "pandas\t0.20.3\n",
      "tensorflow\t1.8.0\n"
     ]
    }
   ],
   "source": [
    "#find the names of the imported modules\n",
    "import types\n",
    "def imports():\n",
    "    for name, val in globals().items():\n",
    "        if isinstance(val, types.ModuleType):\n",
    "            yield val.__name__\n",
    "\n",
    "#exclude all modules not listed by `!pip freeze`\n",
    "excludes = ['__builtin__', 'types', 'IPython.core.shadowns', 'sys', 'os']\n",
    "imported_modules = [module for module in imports() if module not in excludes]\n",
    "pip_modules = !pip freeze #you could also use `!conda list` with anaconda\n",
    "\n",
    "#print the names and versions of the imported modules\n",
    "for module in pip_modules:\n",
    "    name, version = module.split('==')\n",
    "    if name in imported_modules:\n",
    "        print(name + '\\t' + version)"
   ]
  }
 ],
 "metadata": {
  "kernelspec": {
   "display_name": "Python 2",
   "language": "python",
   "name": "python2"
  },
  "language_info": {
   "codemirror_mode": {
    "name": "ipython",
    "version": 2
   },
   "file_extension": ".py",
   "mimetype": "text/x-python",
   "name": "python",
   "nbconvert_exporter": "python",
   "pygments_lexer": "ipython2",
   "version": "2.7.13"
  }
 },
 "nbformat": 4,
 "nbformat_minor": 2
}
