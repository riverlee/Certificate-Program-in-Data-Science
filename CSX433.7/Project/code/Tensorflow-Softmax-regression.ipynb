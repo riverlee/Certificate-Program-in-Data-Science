{
 "cells": [
  {
   "cell_type": "markdown",
   "metadata": {},
   "source": [
    "## Tensorflow Softmax Regressions\n",
    "\n",
    "- Data are stored in pickle by prepare_data sript"
   ]
  },
  {
   "cell_type": "markdown",
   "metadata": {},
   "source": [
    "### Load packages"
   ]
  },
  {
   "cell_type": "code",
   "execution_count": 1,
   "metadata": {
    "collapsed": true
   },
   "outputs": [],
   "source": [
    "import pickle\n",
    "import numpy as np\n",
    "import pandas as pd\n",
    "import tensorflow as tf\n",
    "from sklearn.preprocessing import scale\n",
    "import matplotlib.pyplot as plt"
   ]
  },
  {
   "cell_type": "markdown",
   "metadata": {},
   "source": [
    "### Load data"
   ]
  },
  {
   "cell_type": "code",
   "execution_count": 2,
   "metadata": {},
   "outputs": [
    {
     "data": {
      "text/plain": [
       "['test', 'train', 'validation']"
      ]
     },
     "execution_count": 2,
     "metadata": {},
     "output_type": "execute_result"
    }
   ],
   "source": [
    "## load data and scalled it\n",
    "with open('../data/features.pickle', 'rb') as handle:\n",
    "    d = pickle.load(handle)\n",
    "    \n",
    "d['train']['features'][np.isnan(d['train']['features'])] = 0\n",
    "d['train']['features'] = scale( d['train']['features'], axis=0, with_mean=True, with_std=True, copy=True )\n",
    "\n",
    "d['validation']['features'][np.isnan(d['validation']['features'])] = 0\n",
    "d['validation']['features'] = scale( d['validation']['features'], axis=0, with_mean=True, with_std=True, copy=True )\n",
    "\n",
    "\n",
    "d['test']['features'][np.isnan(d['test']['features'])] = 0\n",
    "d['test']['features'] =scale(d['test']['features'], axis=0, with_mean=True, with_std=True, copy=True)\n",
    "\n",
    "## covert into dummy values\n",
    "d['train']['label'] = pd.get_dummies(d['train']['label']).as_matrix().astype(np.float32)\n",
    "d['validation']['label'] = pd.get_dummies(d['validation']['label']).as_matrix().astype(np.float32)\n",
    "\n",
    "d.keys()"
   ]
  },
  {
   "cell_type": "markdown",
   "metadata": {},
   "source": [
    "### Define Tensors"
   ]
  },
  {
   "cell_type": "code",
   "execution_count": 3,
   "metadata": {
    "collapsed": true
   },
   "outputs": [],
   "source": [
    "## Tensorflow analysis\n",
    "n_features= d['train']['features'].shape[1]\n",
    "\n",
    "x = tf.placeholder(dtype=tf.float32,shape=[None,n_features])\n",
    "y_ = tf.placeholder(dtype=tf.float32,shape=[None,3])\n",
    "\n",
    "W = tf.Variable(tf.zeros([n_features, 3]))\n",
    "b = tf.Variable(tf.zeros([3]))\n",
    "\n",
    "y = tf.nn.softmax(tf.matmul(x, W) + b)\n",
    "\n",
    "cross_entropy = tf.losses.softmax_cross_entropy(onehot_labels=y_, logits=y)\n",
    "\n",
    "train_step = tf.train.GradientDescentOptimizer(0.02).minimize(cross_entropy)\n",
    "sess = tf.Session()                                 # control training and others\n",
    "sess.run(tf.global_variables_initializer())     "
   ]
  },
  {
   "cell_type": "markdown",
   "metadata": {},
   "source": [
    "### Tensorflow session running"
   ]
  },
  {
   "cell_type": "code",
   "execution_count": 4,
   "metadata": {},
   "outputs": [
    {
     "name": "stdout",
     "output_type": "stream",
     "text": [
      "('Epoch=', 0, '; cross_entropy=', 1.0973778)\n",
      "('Epoch=', 500, '; cross_entropy=', 0.87417483)\n",
      "('Epoch=', 1000, '; cross_entropy=', 0.83173865)\n",
      "('Epoch=', 1500, '; cross_entropy=', 0.81678504)\n",
      "('Epoch=', 2000, '; cross_entropy=', 0.82366931)\n",
      "('Epoch=', 2500, '; cross_entropy=', 0.8130635)\n",
      "('Epoch=', 3000, '; cross_entropy=', 0.81589192)\n",
      "('Epoch=', 3500, '; cross_entropy=', 0.807374)\n",
      "('Epoch=', 4000, '; cross_entropy=', 0.80875081)\n",
      "('Epoch=', 4500, '; cross_entropy=', 0.80634642)\n",
      "('Epoch=', 5000, '; cross_entropy=', 0.81091022)\n",
      "('Epoch=', 5500, '; cross_entropy=', 0.80937338)\n",
      "('Epoch=', 6000, '; cross_entropy=', 0.80537152)\n",
      "('Epoch=', 6500, '; cross_entropy=', 0.80784386)\n",
      "('Epoch=', 7000, '; cross_entropy=', 0.79983056)\n",
      "('Epoch=', 7500, '; cross_entropy=', 0.81050986)\n",
      "('Epoch=', 8000, '; cross_entropy=', 0.81266779)\n",
      "('Epoch=', 8500, '; cross_entropy=', 0.79143411)\n",
      "('Epoch=', 9000, '; cross_entropy=', 0.80321211)\n",
      "('Epoch=', 9500, '; cross_entropy=', 0.80063528)\n"
     ]
    },
    {
     "data": {
      "image/png": "[encoded data removed]",
      "text/plain": [
       "<matplotlib.figure.Figure at 0x10a067590>"
      ]
     },
     "metadata": {},
     "output_type": "display_data"
    }
   ],
   "source": [
    "train_size = d['train']['features'].shape[0]\n",
    "\n",
    "# Parameters\n",
    "batch_size = 5000 #\n",
    "\n",
    "tf.set_random_seed(123)\n",
    "\n",
    "steps=[]\n",
    "ces = []\n",
    "\n",
    "## Start train\n",
    "for step in range(10000):\n",
    "    # train and net output\n",
    "    idx = np.random.randint(0,train_size,batch_size)\n",
    "    batch_xs, batch_ys = d['train']['features'][idx],d['train']['label'][idx]\n",
    "   \n",
    "    sess.run(train_step, feed_dict={x: batch_xs, y_: batch_ys})\n",
    "    \n",
    "    if step % 500 == 0:\n",
    "        # plot and show learning process\n",
    "        ce = sess.run(cross_entropy,feed_dict={x: batch_xs, y_: batch_ys})\n",
    "        print(\"Epoch=\",step,\"; cross_entropy=\",ce)\n",
    "        steps.append(step)\n",
    "        ces.append(ce)\n",
    "\n",
    "plt.scatter(steps,ces)\n",
    "plt.plot(steps,ces)\n",
    "plt.title(\"Cross Entropy while training\")\n",
    "plt.xlabel(\"Epoch\")\n",
    "plt.ylabel(\"Cross Entropy\")\n",
    "plt.show()"
   ]
  },
  {
   "cell_type": "markdown",
   "metadata": {},
   "source": [
    "### Accuracy on the validation dataset"
   ]
  },
  {
   "cell_type": "code",
   "execution_count": 5,
   "metadata": {},
   "outputs": [
    {
     "name": "stdout",
     "output_type": "stream",
     "text": [
      "('Accuracy on Vadlication dataset is :', 0.74604374)\n"
     ]
    }
   ],
   "source": [
    "correct_prediction = tf.equal(tf.argmax(y,1), tf.argmax(y_,1))\n",
    "accuracy = tf.reduce_mean(tf.cast(correct_prediction,dtype=tf.float32))\n",
    "print(\"Accuracy on Vadlication dataset is :\",sess.run(accuracy,feed_dict={x: d['validation']['features'], y_:np.array(d['validation']['label'],dtype=np.float32)}))"
   ]
  },
  {
   "cell_type": "markdown",
   "metadata": {},
   "source": [
    "### Output prediction on the testing dataset to be evaluated by drivendata.org"
   ]
  },
  {
   "cell_type": "code",
   "execution_count": 6,
   "metadata": {
    "collapsed": true
   },
   "outputs": [],
   "source": [
    "## Output prediction for test, evalucate it through https://www.drivendata.org/\n",
    "pred = sess.run(tf.argmax(y,1), feed_dict={x: d['test']['features']})\n",
    "mapping = dict(enumerate(d['train']['label_original'].cat.categories))\n",
    "pred_label = [mapping[i] for i in pred ]\n",
    "\n",
    "outd = pd.DataFrame({\"id\":d['test'][\"id\"]['id'].tolist(),\"status_group\": pred_label})\n",
    "\n",
    "outd.to_csv(path_or_buf=\"../result/TF-softMax-predctions.csv\",index=False)"
   ]
  },
  {
   "cell_type": "markdown",
   "metadata": {},
   "source": [
    "### Output package versions used"
   ]
  },
  {
   "cell_type": "code",
   "execution_count": 7,
   "metadata": {},
   "outputs": [
    {
     "name": "stdout",
     "output_type": "stream",
     "text": [
      "numpy\t1.13.3\n",
      "pandas\t0.20.3\n",
      "tensorflow\t1.8.0\n"
     ]
    }
   ],
   "source": [
    "#find the names of the imported modules\n",
    "import types\n",
    "def imports():\n",
    "    for name, val in globals().items():\n",
    "        if isinstance(val, types.ModuleType):\n",
    "            yield val.__name__\n",
    "\n",
    "#exclude all modules not listed by `!pip freeze`\n",
    "excludes = ['__builtin__', 'types', 'IPython.core.shadowns', 'sys', 'os']\n",
    "imported_modules = [module for module in imports() if module not in excludes]\n",
    "pip_modules = !pip freeze #you could also use `!conda list` with anaconda\n",
    "\n",
    "#print the names and versions of the imported modules\n",
    "for module in pip_modules:\n",
    "    name, version = module.split('==')\n",
    "    if name in imported_modules:\n",
    "        print(name + '\\t' + version)"
   ]
  }
 ],
 "metadata": {
  "kernelspec": {
   "display_name": "Python 2",
   "language": "python",
   "name": "python2"
  },
  "language_info": {
   "codemirror_mode": {
    "name": "ipython",
    "version": 2
   },
   "file_extension": ".py",
   "mimetype": "text/x-python",
   "name": "python",
   "nbconvert_exporter": "python",
   "pygments_lexer": "ipython2",
   "version": "2.7.13"
  }
 },
 "nbformat": 4,
 "nbformat_minor": 2
}
