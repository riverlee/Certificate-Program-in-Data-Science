{
 "cells": [
  {
   "cell_type": "markdown",
   "metadata": {},
   "source": [
    "## Tensorflow Random Forest\n",
    "\n",
    "- Data are stored in **pickle** by **prepare_data** sript\n"
   ]
  },
  {
   "cell_type": "markdown",
   "metadata": {},
   "source": [
    "#### Load packages"
   ]
  },
  {
   "cell_type": "code",
   "execution_count": 1,
   "metadata": {
    "collapsed": true
   },
   "outputs": [],
   "source": [
    "import pickle\n",
    "\n",
    "from __future__ import print_function\n",
    "\n",
    "import numpy as np\n",
    "import pandas as pd\n",
    "\n",
    "import tensorflow as tf\n",
    "\n"
   ]
  },
  {
   "cell_type": "markdown",
   "metadata": {},
   "source": [
    "### Load data"
   ]
  },
  {
   "cell_type": "code",
   "execution_count": 2,
   "metadata": {},
   "outputs": [
    {
     "data": {
      "text/plain": [
       "['test', 'train', 'validation']"
      ]
     },
     "execution_count": 2,
     "metadata": {},
     "output_type": "execute_result"
    }
   ],
   "source": [
    "## load data and scalled it\n",
    "with open('../data/features.pickle', 'rb') as handle:\n",
    "    d = pickle.load(handle)\n",
    "\n",
    "## No further scale for the RF model\n",
    "d.keys()"
   ]
  },
  {
   "cell_type": "markdown",
   "metadata": {},
   "source": [
    "### Random forest model training"
   ]
  },
  {
   "cell_type": "code",
   "execution_count": 3,
   "metadata": {},
   "outputs": [
    {
     "name": "stdout",
     "output_type": "stream",
     "text": [
      "WARNING:tensorflow:From /Users/jiangli/anaconda2/lib/python2.7/site-packages/tensorflow/contrib/tensor_forest/client/random_forest.py:121: multi_class_head (from tensorflow.contrib.learn.python.learn.estimators.head) is deprecated and will be removed in a future version.\n",
      "Instructions for updating:\n",
      "Please switch to tf.contrib.estimator.*_head.\n",
      "WARNING:tensorflow:From /Users/jiangli/anaconda2/lib/python2.7/site-packages/tensorflow/contrib/learn/python/learn/estimators/estimator.py:1179: __init__ (from tensorflow.contrib.learn.python.learn.estimators.estimator) is deprecated and will be removed in a future version.\n",
      "Instructions for updating:\n",
      "Please replace uses of any Estimator from tf.contrib.learn with an Estimator from tf.estimator.*\n",
      "WARNING:tensorflow:From /Users/jiangli/anaconda2/lib/python2.7/site-packages/tensorflow/contrib/learn/python/learn/estimators/estimator.py:427: __init__ (from tensorflow.contrib.learn.python.learn.estimators.run_config) is deprecated and will be removed in a future version.\n",
      "Instructions for updating:\n",
      "When switching to tf.estimator.Estimator, use tf.estimator.RunConfig instead.\n",
      "INFO:tensorflow:Using default config.\n",
      "INFO:tensorflow:Using config: {'_save_checkpoints_secs': 600, '_num_ps_replicas': 0, '_keep_checkpoint_max': 5, '_task_type': None, '_train_distribute': None, '_is_chief': True, '_cluster_spec': <tensorflow.python.training.server_lib.ClusterSpec object at 0x1c2464c110>, '_model_dir': './tmp/tf_model', '_save_checkpoints_steps': None, '_keep_checkpoint_every_n_hours': 10000, '_session_config': None, '_tf_random_seed': None, '_save_summary_steps': 100, '_environment': 'local', '_num_worker_replicas': 0, '_task_id': 0, '_log_step_count_steps': 100, '_tf_config': gpu_options {\n",
      "  per_process_gpu_memory_fraction: 1.0\n",
      "}\n",
      ", '_evaluation_master': '', '_master': ''}\n",
      "INFO:tensorflow:Constructing forest with params = \n",
      "INFO:tensorflow:{'num_output_columns': 4, 'feature_bagging_fraction': 1.0, 'valid_leaf_threshold': 1, 'checkpoint_stats': False, 'initialize_average_splits': False, 'pruning_type': 0, 'prune_every_samples': 0, 'dominate_fraction': 0.99, 'max_fertile_nodes': 0, 'early_finish_check_every_samples': 0, 'dominate_method': 'bootstrap', 'bagging_fraction': 1.0, 'regression': False, 'param_file': None, 'bagged_num_features': 188, 'use_running_stats_method': False, 'max_nodes': 100, 'split_finish_name': 'basic', 'leaf_model_type': 0, 'stats_model_type': 0, 'bagged_features': None, 'num_features': 188, 'split_after_samples': 250, 'num_outputs': 1, 'collate_examples': False, 'split_type': 0, 'num_classes': 3, 'num_splits_to_consider': 20, 'split_name': 'less_or_equal', 'finish_type': 0, 'inference_tree_paths': False, 'split_pruning_name': 'none', 'base_random_seed': 0, 'num_trees': 25, 'model_name': 'all_dense'}\n",
      "INFO:tensorflow:dense_features_size: 188 dense: [{name: x original_type: 0 size: 188}] sparse: []\n",
      "INFO:tensorflow:dense_features_size: 188 dense: [{name: x original_type: 0 size: 188}] sparse: []\n",
      "WARNING:tensorflow:From /Users/jiangli/anaconda2/lib/python2.7/site-packages/tensorflow/contrib/learn/python/learn/estimators/head.py:678: __new__ (from tensorflow.contrib.learn.python.learn.estimators.model_fn) is deprecated and will be removed in a future version.\n",
      "Instructions for updating:\n",
      "When switching to tf.estimator.Estimator, use tf.estimator.EstimatorSpec. You can use the `estimator_spec` method to create an equivalent one.\n",
      "INFO:tensorflow:Create CheckpointSaverHook.\n",
      "WARNING:tensorflow:Error encountered when serializing resources.\n",
      "Type is unsupported, or the types of the items don't match field type in CollectionDef.\n",
      "'_Resource' object has no attribute 'name'\n",
      "INFO:tensorflow:Graph was finalized.\n",
      "INFO:tensorflow:Running local_init_op.\n",
      "INFO:tensorflow:Done running local_init_op.\n",
      "WARNING:tensorflow:Error encountered when serializing resources.\n",
      "Type is unsupported, or the types of the items don't match field type in CollectionDef.\n",
      "'_Resource' object has no attribute 'name'\n",
      "INFO:tensorflow:Saving checkpoints for 1 into ./tmp/tf_model/model.ckpt.\n",
      "WARNING:tensorflow:Error encountered when serializing resources.\n",
      "Type is unsupported, or the types of the items don't match field type in CollectionDef.\n",
      "'_Resource' object has no attribute 'name'\n",
      "INFO:tensorflow:loss = 1.09861, step = 1\n",
      "INFO:tensorflow:TensorForestLossHook resetting last_step.\n",
      "INFO:tensorflow:global_step/sec: 19.5965\n",
      "INFO:tensorflow:loss = 0.899426, step = 101 (5.105 sec)\n",
      "INFO:tensorflow:global_step/sec: 19.6017\n",
      "INFO:tensorflow:loss = 0.895282, step = 201 (5.102 sec)\n",
      "INFO:tensorflow:TensorForestLossHook requesting stop.\n",
      "INFO:tensorflow:Saving checkpoints for 290 into ./tmp/tf_model/model.ckpt.\n",
      "WARNING:tensorflow:Error encountered when serializing resources.\n",
      "Type is unsupported, or the types of the items don't match field type in CollectionDef.\n",
      "'_Resource' object has no attribute 'name'\n",
      "INFO:tensorflow:9: clean up resources: None\n",
      "INFO:tensorflow:Loss for final step: 0.895044.\n"
     ]
    },
    {
     "data": {
      "text/plain": [
       "TensorForestEstimator(params=None)"
      ]
     },
     "execution_count": 3,
     "metadata": {},
     "output_type": "execute_result"
    }
   ],
   "source": [
    "tf.set_random_seed(123)\n",
    "params = tf.contrib.tensor_forest.python.tensor_forest.ForestHParams(\n",
    "  num_classes=3, \n",
    "  num_features=d['train']['features'].shape[1], \n",
    "  regression=False,\n",
    "  num_trees=25, \n",
    "  max_nodes=100,\n",
    "  num_splits_to_consider=20)\n",
    "\n",
    "classifier = tf.contrib.tensor_forest.client.random_forest.TensorForestEstimator(params,model_dir=\"./tmp/tf_model\")\n",
    "\n",
    "# Define the training inputs\n",
    "train_input_fn = tf.estimator.inputs.numpy_input_fn(\n",
    "    x={\"x\": np.array(d['train']['features'],dtype=np.float32)},\n",
    "    y=np.array(d['train']['label'],dtype=np.int),\n",
    "    num_epochs=None,\n",
    "    batch_size=2000,\n",
    "    shuffle=True\n",
    ")\n",
    "\n",
    "classifier.fit(input_fn=train_input_fn, steps=10000)"
   ]
  },
  {
   "cell_type": "markdown",
   "metadata": {},
   "source": [
    "### Accuracy on the validation dataset"
   ]
  },
  {
   "cell_type": "code",
   "execution_count": 4,
   "metadata": {},
   "outputs": [
    {
     "name": "stdout",
     "output_type": "stream",
     "text": [
      "INFO:tensorflow:Constructing forest with params = \n",
      "INFO:tensorflow:{'num_output_columns': 4, 'params_proto': pruning_type {\n",
      "  prune_every_samples {\n",
      "    constant_value: 0.0\n",
      "  }\n",
      "}\n",
      "finish_type {\n",
      "  check_every_steps {\n",
      "    constant_value: 0.0\n",
      "  }\n",
      "}\n",
      "num_trees: 25\n",
      "max_nodes: 100\n",
      "num_outputs: 3\n",
      "num_splits_to_consider {\n",
      "  constant_value: 20.0\n",
      "}\n",
      "split_after_samples {\n",
      "  constant_value: 250.0\n",
      "}\n",
      "dominate_fraction {\n",
      "  constant_value: 0.990000009537\n",
      "}\n",
      "num_features: 188\n",
      ", 'feature_bagging_fraction': 1.0, 'valid_leaf_threshold': 1, 'checkpoint_stats': False, 'initialize_average_splits': False, 'pruning_type': 0, 'prune_every_samples': 0, 'dominate_fraction': 0.99, 'max_fertile_nodes': 0, 'early_finish_check_every_samples': 0, 'dominate_method': 'bootstrap', 'bagging_fraction': 1.0, 'regression': False, 'param_file': None, 'bagged_num_features': 188, 'use_running_stats_method': False, 'max_nodes': 100, 'split_finish_name': 'basic', 'leaf_model_type': 0, 'stats_model_type': 0, 'bagged_features': None, 'num_features': 188, 'split_after_samples': 250, 'num_outputs': 1, 'serialized_params_proto': '\"\\x07\\n\\x05\\r\\x00\\x00\\x00\\x00*\\x07\\n\\x05\\r\\x00\\x00\\x00\\x000\\x198d`\\x03j\\x05\\r\\x00\\x00\\xa0Ar\\x05\\r\\x00\\x00zCz\\x05\\r\\xa4p}?\\xa8\\x01\\xbc\\x01', 'collate_examples': False, 'split_type': 0, 'num_classes': 3, 'num_splits_to_consider': 20, 'split_name': 'less_or_equal', 'finish_type': 0, 'inference_tree_paths': False, 'split_pruning_name': 'none', 'base_random_seed': 0, 'num_trees': 25, 'model_name': 'all_dense'}\n",
      "INFO:tensorflow:dense_features_size: 188 dense: [{name: x original_type: 0 size: 188}] sparse: []\n",
      "INFO:tensorflow:Starting evaluation at 2018-06-26-00:18:18\n",
      "INFO:tensorflow:Graph was finalized.\n",
      "INFO:tensorflow:Restoring parameters from ./tmp/tf_model/model.ckpt-290\n",
      "INFO:tensorflow:Running local_init_op.\n",
      "INFO:tensorflow:Done running local_init_op.\n",
      "INFO:tensorflow:Finished evaluation at 2018-06-26-00:18:19\n",
      "INFO:tensorflow:Saving dict for global step 290: accuracy = 0.729798, global_step = 290, loss = 0.900388\n",
      "WARNING:tensorflow:Error encountered when serializing resources.\n",
      "Type is unsupported, or the types of the items don't match field type in CollectionDef.\n",
      "'_Resource' object has no attribute 'name'\n",
      "\n",
      "Validation Accuracy: 72.979796%\n",
      "\n"
     ]
    }
   ],
   "source": [
    "# Define the test inputs\n",
    "validation_input_fn = tf.estimator.inputs.numpy_input_fn(\n",
    "    x={\"x\": np.array(d['validation']['features'],dtype=np.float32)},\n",
    "    y=np.array(d['validation']['label'],dtype=np.int),\n",
    "    num_epochs=1,\n",
    "    shuffle=False\n",
    ")\n",
    "\n",
    "# Evaluate accuracy\n",
    "accuracy_score = classifier.evaluate(input_fn=validation_input_fn)[\"accuracy\"]\n",
    "print(\"\\nValidation Accuracy: {0:f}%\\n\".format(accuracy_score*100))"
   ]
  },
  {
   "cell_type": "markdown",
   "metadata": {},
   "source": [
    "### Output prediction on the testing dataset to be evaluated by drivendata.org"
   ]
  },
  {
   "cell_type": "code",
   "execution_count": 5,
   "metadata": {},
   "outputs": [
    {
     "name": "stdout",
     "output_type": "stream",
     "text": [
      "INFO:tensorflow:Constructing forest with params = \n",
      "INFO:tensorflow:{'num_output_columns': 4, 'params_proto': pruning_type {\n",
      "  prune_every_samples {\n",
      "    constant_value: 0.0\n",
      "  }\n",
      "}\n",
      "finish_type {\n",
      "  check_every_steps {\n",
      "    constant_value: 0.0\n",
      "  }\n",
      "}\n",
      "num_trees: 25\n",
      "max_nodes: 100\n",
      "num_outputs: 3\n",
      "num_splits_to_consider {\n",
      "  constant_value: 20.0\n",
      "}\n",
      "split_after_samples {\n",
      "  constant_value: 250.0\n",
      "}\n",
      "dominate_fraction {\n",
      "  constant_value: 0.990000009537\n",
      "}\n",
      "num_features: 188\n",
      ", 'feature_bagging_fraction': 1.0, 'valid_leaf_threshold': 1, 'checkpoint_stats': False, 'initialize_average_splits': False, 'pruning_type': 0, 'prune_every_samples': 0, 'dominate_fraction': 0.99, 'max_fertile_nodes': 0, 'early_finish_check_every_samples': 0, 'dominate_method': 'bootstrap', 'bagging_fraction': 1.0, 'regression': False, 'param_file': None, 'bagged_num_features': 188, 'use_running_stats_method': False, 'max_nodes': 100, 'split_finish_name': 'basic', 'leaf_model_type': 0, 'stats_model_type': 0, 'bagged_features': None, 'num_features': 188, 'split_after_samples': 250, 'num_outputs': 1, 'serialized_params_proto': '\"\\x07\\n\\x05\\r\\x00\\x00\\x00\\x00*\\x07\\n\\x05\\r\\x00\\x00\\x00\\x000\\x198d`\\x03j\\x05\\r\\x00\\x00\\xa0Ar\\x05\\r\\x00\\x00zCz\\x05\\r\\xa4p}?\\xa8\\x01\\xbc\\x01', 'collate_examples': False, 'split_type': 0, 'num_classes': 3, 'num_splits_to_consider': 20, 'split_name': 'less_or_equal', 'finish_type': 0, 'inference_tree_paths': False, 'split_pruning_name': 'none', 'base_random_seed': 0, 'num_trees': 25, 'model_name': 'all_dense'}\n",
      "INFO:tensorflow:dense_features_size: 188 dense: [{name: x original_type: 0 size: 188}] sparse: []\n",
      "INFO:tensorflow:Graph was finalized.\n",
      "INFO:tensorflow:Restoring parameters from ./tmp/tf_model/model.ckpt-290\n",
      "INFO:tensorflow:Running local_init_op.\n",
      "INFO:tensorflow:Done running local_init_op.\n"
     ]
    }
   ],
   "source": [
    "test_input_fn = tf.estimator.inputs.numpy_input_fn(\n",
    "    x={\"x\": np.array(d['test']['features'],dtype=np.float32)},\n",
    "    shuffle=False\n",
    ")\n",
    "## Output prediction for test, evalucate it through https://www.drivendata.org/\n",
    "pred = [p['classes']  for p in classifier.predict(input_fn=test_input_fn)]\n",
    "mapping = dict(enumerate(d['train']['label_original'].cat.categories))\n",
    "pred_label = [mapping[i] for i in pred ]\n",
    "\n",
    "outd = pd.DataFrame({\"id\":d['test'][\"id\"]['id'].tolist(),\"status_group\": pred_label})\n",
    "\n",
    "outd.to_csv(path_or_buf=\"../result/TF-RF-predctions.csv\",index=False)"
   ]
  },
  {
   "cell_type": "markdown",
   "metadata": {},
   "source": [
    "### Output package versions used"
   ]
  },
  {
   "cell_type": "code",
   "execution_count": 6,
   "metadata": {},
   "outputs": [
    {
     "name": "stdout",
     "output_type": "stream",
     "text": [
      "numpy\t1.13.3\n",
      "pandas\t0.20.3\n",
      "tensorflow\t1.8.0\n"
     ]
    }
   ],
   "source": [
    "#find the names of the imported modules\n",
    "import types\n",
    "def imports():\n",
    "    for name, val in globals().items():\n",
    "        if isinstance(val, types.ModuleType):\n",
    "            yield val.__name__\n",
    "\n",
    "#exclude all modules not listed by `!pip freeze`\n",
    "excludes = ['__builtin__', 'types', 'IPython.core.shadowns', 'sys', 'os']\n",
    "imported_modules = [module for module in imports() if module not in excludes]\n",
    "pip_modules = !pip freeze #you could also use `!conda list` with anaconda\n",
    "\n",
    "#print the names and versions of the imported modules\n",
    "for module in pip_modules:\n",
    "    name, version = module.split('==')\n",
    "    if name in imported_modules:\n",
    "        print(name + '\\t' + version)"
   ]
  }
 ],
 "metadata": {
  "kernelspec": {
   "display_name": "Python 2",
   "language": "python",
   "name": "python2"
  },
  "language_info": {
   "codemirror_mode": {
    "name": "ipython",
    "version": 2
   },
   "file_extension": ".py",
   "mimetype": "text/x-python",
   "name": "python",
   "nbconvert_exporter": "python",
   "pygments_lexer": "ipython2",
   "version": "2.7.13"
  }
 },
 "nbformat": 4,
 "nbformat_minor": 2
}
