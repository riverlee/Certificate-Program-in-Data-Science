{
 "cells": [
  {
   "cell_type": "markdown",
   "metadata": {},
   "source": [
    "## Tensorflow Softmax Regressions\n",
    "\n",
    "- Data are stored in pickle by prepare_data sript"
   ]
  },
  {
   "cell_type": "code",
   "execution_count": 1,
   "metadata": {
    "collapsed": true
   },
   "outputs": [],
   "source": [
    "import pickle\n",
    "import numpy as np\n",
    "import pandas as pd\n",
    "import tensorflow as tf\n",
    "from sklearn.preprocessing import scale\n",
    "import matplotlib.pyplot as plt"
   ]
  },
  {
   "cell_type": "code",
   "execution_count": 2,
   "metadata": {},
   "outputs": [
    {
     "data": {
      "text/plain": [
       "['test', 'train', 'validation']"
      ]
     },
     "execution_count": 2,
     "metadata": {},
     "output_type": "execute_result"
    }
   ],
   "source": [
    "## load data and scalled it\n",
    "with open('../data/features.pickle', 'rb') as handle:\n",
    "    d = pickle.load(handle)\n",
    "    \n",
    "d['train']['features'][np.isnan(d['train']['features'])] = 0\n",
    "d['train']['features'] = scale( d['train']['features'], axis=0, with_mean=True, with_std=True, copy=True )\n",
    "\n",
    "d['validation']['features'][np.isnan(d['validation']['features'])] = 0\n",
    "d['validation']['features'] = scale( d['validation']['features'], axis=0, with_mean=True, with_std=True, copy=True )\n",
    "\n",
    "\n",
    "d['test']['features'][np.isnan(d['test']['features'])] = 0\n",
    "d['test']['features'] =scale(d['test']['features'], axis=0, with_mean=True, with_std=True, copy=True)\n",
    "\n",
    "## covert into dummy values\n",
    "d['train']['label'] = pd.get_dummies(d['train']['label']).as_matrix().astype(np.float32)\n",
    "d.keys()"
   ]
  },
  {
   "cell_type": "code",
   "execution_count": 3,
   "metadata": {
    "collapsed": true
   },
   "outputs": [],
   "source": [
    "## Tensorflow analysis\n",
    "n_features= d['train']['features'].shape[1]\n",
    "\n",
    "x = tf.placeholder(dtype=tf.float32,shape=[None,n_features])\n",
    "y_ = tf.placeholder(dtype=tf.float32,shape=[None,3])\n",
    "\n",
    "W = tf.Variable(tf.zeros([n_features, 3]))\n",
    "b = tf.Variable(tf.zeros([3]))\n",
    "\n",
    "y = tf.nn.softmax(tf.matmul(x, W) + b)\n",
    "\n",
    "cross_entropy = tf.losses.softmax_cross_entropy(onehot_labels=y_, logits=y)\n",
    "\n",
    "train_step = tf.train.GradientDescentOptimizer(0.02).minimize(cross_entropy)\n",
    "sess = tf.Session()                                 # control training and others\n",
    "sess.run(tf.global_variables_initializer())     "
   ]
  },
  {
   "cell_type": "code",
   "execution_count": 4,
   "metadata": {},
   "outputs": [
    {
     "name": "stdout",
     "output_type": "stream",
     "text": [
      "('Epoch=', 0, '; cross_entropy=', 1.0972774)\n",
      "('Epoch=', 500, '; cross_entropy=', 0.86410594)\n",
      "('Epoch=', 1000, '; cross_entropy=', 0.84067744)\n",
      "('Epoch=', 1500, '; cross_entropy=', 0.82805371)\n",
      "('Epoch=', 2000, '; cross_entropy=', 0.81533217)\n",
      "('Epoch=', 2500, '; cross_entropy=', 0.81066793)\n",
      "('Epoch=', 3000, '; cross_entropy=', 0.80586958)\n",
      "('Epoch=', 3500, '; cross_entropy=', 0.80303746)\n",
      "('Epoch=', 4000, '; cross_entropy=', 0.81190681)\n",
      "('Epoch=', 4500, '; cross_entropy=', 0.8068108)\n",
      "('Epoch=', 5000, '; cross_entropy=', 0.80284148)\n",
      "('Epoch=', 5500, '; cross_entropy=', 0.80434823)\n",
      "('Epoch=', 6000, '; cross_entropy=', 0.80510211)\n",
      "('Epoch=', 6500, '; cross_entropy=', 0.7988196)\n",
      "('Epoch=', 7000, '; cross_entropy=', 0.80401582)\n",
      "('Epoch=', 7500, '; cross_entropy=', 0.81158996)\n",
      "('Epoch=', 8000, '; cross_entropy=', 0.80988204)\n",
      "('Epoch=', 8500, '; cross_entropy=', 0.79334778)\n",
      "('Epoch=', 9000, '; cross_entropy=', 0.79220945)\n",
      "('Epoch=', 9500, '; cross_entropy=', 0.8061536)\n"
     ]
    },
    {
     "data": {
      "image/png": "[encoded data removed]",
      "text/plain": [
       "<matplotlib.figure.Figure at 0x110b18890>"
      ]
     },
     "metadata": {},
     "output_type": "display_data"
    }
   ],
   "source": [
    "train_size = d['train']['features'].shape[0]\n",
    "\n",
    "# Parameters\n",
    "batch_size = 5000 #\n",
    "\n",
    "tf.set_random_seed(123)\n",
    "\n",
    "steps=[]\n",
    "ces = []\n",
    "\n",
    "## Start train\n",
    "for step in range(10000):\n",
    "    # train and net output\n",
    "    idx = np.random.randint(0,train_size,batch_size)\n",
    "    batch_xs, batch_ys = d['train']['features'][idx],d['train']['label'][idx]\n",
    "   \n",
    "    sess.run(train_step, feed_dict={x: batch_xs, y_: batch_ys})\n",
    "    \n",
    "    if step % 500 == 0:\n",
    "        # plot and show learning process\n",
    "        ce = sess.run(cross_entropy,feed_dict={x: batch_xs, y_: batch_ys})\n",
    "        print(\"Epoch=\",step,\"; cross_entropy=\",ce)\n",
    "        steps.append(step)\n",
    "        ces.append(ce)\n",
    "\n",
    "plt.scatter(steps,ces)\n",
    "plt.plot(steps,ces)\n",
    "plt.title(\"Cross Entropy while training\")\n",
    "plt.xlabel(\"Epoch\")\n",
    "plt.ylabel(\"Cross Entropy\")\n",
    "plt.show()"
   ]
  },
  {
   "cell_type": "code",
   "execution_count": 5,
   "metadata": {},
   "outputs": [
    {
     "ename": "ValueError",
     "evalue": "Cannot feed value of shape (2970,) for Tensor u'Placeholder_1:0', which has shape '(?, 3)'",
     "output_type": "error",
     "traceback": [
      "\u001b[0;31m---------------------------------------------------------------------------\u001b[0m",
      "\u001b[0;31mValueError\u001b[0m                                Traceback (most recent call last)",
      "\u001b[0;32m<ipython-input-5-039cd5fa36b9>\u001b[0m in \u001b[0;36m<module>\u001b[0;34m()\u001b[0m\n\u001b[1;32m      1\u001b[0m \u001b[0mcorrect_prediction\u001b[0m \u001b[0;34m=\u001b[0m \u001b[0mtf\u001b[0m\u001b[0;34m.\u001b[0m\u001b[0mequal\u001b[0m\u001b[0;34m(\u001b[0m\u001b[0mtf\u001b[0m\u001b[0;34m.\u001b[0m\u001b[0margmax\u001b[0m\u001b[0;34m(\u001b[0m\u001b[0my\u001b[0m\u001b[0;34m,\u001b[0m\u001b[0;36m1\u001b[0m\u001b[0;34m)\u001b[0m\u001b[0;34m,\u001b[0m \u001b[0mtf\u001b[0m\u001b[0;34m.\u001b[0m\u001b[0margmax\u001b[0m\u001b[0;34m(\u001b[0m\u001b[0my_\u001b[0m\u001b[0;34m,\u001b[0m\u001b[0;36m1\u001b[0m\u001b[0;34m)\u001b[0m\u001b[0;34m)\u001b[0m\u001b[0;34m\u001b[0m\u001b[0m\n\u001b[1;32m      2\u001b[0m \u001b[0maccuracy\u001b[0m \u001b[0;34m=\u001b[0m \u001b[0mtf\u001b[0m\u001b[0;34m.\u001b[0m\u001b[0mreduce_mean\u001b[0m\u001b[0;34m(\u001b[0m\u001b[0mtf\u001b[0m\u001b[0;34m.\u001b[0m\u001b[0mcast\u001b[0m\u001b[0;34m(\u001b[0m\u001b[0mcorrect_prediction\u001b[0m\u001b[0;34m,\u001b[0m\u001b[0mdtype\u001b[0m\u001b[0;34m=\u001b[0m\u001b[0mtf\u001b[0m\u001b[0;34m.\u001b[0m\u001b[0mfloat32\u001b[0m\u001b[0;34m)\u001b[0m\u001b[0;34m)\u001b[0m\u001b[0;34m\u001b[0m\u001b[0m\n\u001b[0;32m----> 3\u001b[0;31m \u001b[0;32mprint\u001b[0m\u001b[0;34m(\u001b[0m\u001b[0;34m\"Accuracy on Vadlication dataset is :\"\u001b[0m\u001b[0;34m,\u001b[0m\u001b[0msess\u001b[0m\u001b[0;34m.\u001b[0m\u001b[0mrun\u001b[0m\u001b[0;34m(\u001b[0m\u001b[0maccuracy\u001b[0m\u001b[0;34m,\u001b[0m\u001b[0mfeed_dict\u001b[0m\u001b[0;34m=\u001b[0m\u001b[0;34m{\u001b[0m\u001b[0mx\u001b[0m\u001b[0;34m:\u001b[0m \u001b[0md\u001b[0m\u001b[0;34m[\u001b[0m\u001b[0;34m'validation'\u001b[0m\u001b[0;34m]\u001b[0m\u001b[0;34m[\u001b[0m\u001b[0;34m'features'\u001b[0m\u001b[0;34m]\u001b[0m\u001b[0;34m,\u001b[0m \u001b[0my_\u001b[0m\u001b[0;34m:\u001b[0m\u001b[0mnp\u001b[0m\u001b[0;34m.\u001b[0m\u001b[0marray\u001b[0m\u001b[0;34m(\u001b[0m\u001b[0md\u001b[0m\u001b[0;34m[\u001b[0m\u001b[0;34m'validation'\u001b[0m\u001b[0;34m]\u001b[0m\u001b[0;34m[\u001b[0m\u001b[0;34m'label'\u001b[0m\u001b[0;34m]\u001b[0m\u001b[0;34m,\u001b[0m\u001b[0mdtype\u001b[0m\u001b[0;34m=\u001b[0m\u001b[0mnp\u001b[0m\u001b[0;34m.\u001b[0m\u001b[0mfloat32\u001b[0m\u001b[0;34m)\u001b[0m\u001b[0;34m}\u001b[0m\u001b[0;34m)\u001b[0m\u001b[0;34m)\u001b[0m\u001b[0;34m\u001b[0m\u001b[0m\n\u001b[0m",
      "\u001b[0;32m/Users/jiangli/anaconda2/lib/python2.7/site-packages/tensorflow/python/client/session.pyc\u001b[0m in \u001b[0;36mrun\u001b[0;34m(self, fetches, feed_dict, options, run_metadata)\u001b[0m\n\u001b[1;32m    776\u001b[0m     \u001b[0;32mtry\u001b[0m\u001b[0;34m:\u001b[0m\u001b[0;34m\u001b[0m\u001b[0m\n\u001b[1;32m    777\u001b[0m       result = self._run(None, fetches, feed_dict, options_ptr,\n\u001b[0;32m--> 778\u001b[0;31m                          run_metadata_ptr)\n\u001b[0m\u001b[1;32m    779\u001b[0m       \u001b[0;32mif\u001b[0m \u001b[0mrun_metadata\u001b[0m\u001b[0;34m:\u001b[0m\u001b[0;34m\u001b[0m\u001b[0m\n\u001b[1;32m    780\u001b[0m         \u001b[0mproto_data\u001b[0m \u001b[0;34m=\u001b[0m \u001b[0mtf_session\u001b[0m\u001b[0;34m.\u001b[0m\u001b[0mTF_GetBuffer\u001b[0m\u001b[0;34m(\u001b[0m\u001b[0mrun_metadata_ptr\u001b[0m\u001b[0;34m)\u001b[0m\u001b[0;34m\u001b[0m\u001b[0m\n",
      "\u001b[0;32m/Users/jiangli/anaconda2/lib/python2.7/site-packages/tensorflow/python/client/session.pyc\u001b[0m in \u001b[0;36m_run\u001b[0;34m(self, handle, fetches, feed_dict, options, run_metadata)\u001b[0m\n\u001b[1;32m    959\u001b[0m                 \u001b[0;34m'Cannot feed value of shape %r for Tensor %r, '\u001b[0m\u001b[0;34m\u001b[0m\u001b[0m\n\u001b[1;32m    960\u001b[0m                 \u001b[0;34m'which has shape %r'\u001b[0m\u001b[0;34m\u001b[0m\u001b[0m\n\u001b[0;32m--> 961\u001b[0;31m                 % (np_val.shape, subfeed_t.name, str(subfeed_t.get_shape())))\n\u001b[0m\u001b[1;32m    962\u001b[0m           \u001b[0;32mif\u001b[0m \u001b[0;32mnot\u001b[0m \u001b[0mself\u001b[0m\u001b[0;34m.\u001b[0m\u001b[0mgraph\u001b[0m\u001b[0;34m.\u001b[0m\u001b[0mis_feedable\u001b[0m\u001b[0;34m(\u001b[0m\u001b[0msubfeed_t\u001b[0m\u001b[0;34m)\u001b[0m\u001b[0;34m:\u001b[0m\u001b[0;34m\u001b[0m\u001b[0m\n\u001b[1;32m    963\u001b[0m             \u001b[0;32mraise\u001b[0m \u001b[0mValueError\u001b[0m\u001b[0;34m(\u001b[0m\u001b[0;34m'Tensor %s may not be fed.'\u001b[0m \u001b[0;34m%\u001b[0m \u001b[0msubfeed_t\u001b[0m\u001b[0;34m)\u001b[0m\u001b[0;34m\u001b[0m\u001b[0m\n",
      "\u001b[0;31mValueError\u001b[0m: Cannot feed value of shape (2970,) for Tensor u'Placeholder_1:0', which has shape '(?, 3)'"
     ]
    }
   ],
   "source": [
    "correct_prediction = tf.equal(tf.argmax(y,1), tf.argmax(y_,1))\n",
    "accuracy = tf.reduce_mean(tf.cast(correct_prediction,dtype=tf.float32))\n",
    "print(\"Accuracy on Vadlication dataset is :\",sess.run(accuracy,feed_dict={x: d['validation']['features'], y_:np.array(d['validation']['label'],dtype=np.float32)}))"
   ]
  },
  {
   "cell_type": "code",
   "execution_count": null,
   "metadata": {
    "collapsed": true
   },
   "outputs": [],
   "source": [
    "d['validation']['features']"
   ]
  },
  {
   "cell_type": "code",
   "execution_count": null,
   "metadata": {},
   "outputs": [],
   "source": [
    "## Output prediction for \n",
    "pred = sess.run(tf.argmax(y,1), feed_dict={x: d['test']['features']})\n",
    "mapping = dict(enumerate(d['train']['label_original'].cat.categories))\n",
    "pred_label = [mapping[i] for i in pred ]\n",
    "\n",
    "outd = pd.DataFrame({\"id\":d['test'][\"id\"]['id'].tolist(),\"status_group\": pred_label})"
   ]
  },
  {
   "cell_type": "code",
   "execution_count": null,
   "metadata": {},
   "outputs": [],
   "source": [
    "outd.to_csv(path_or_buf=\"../result/TF-softMax-predctions.csv\",index=False)"
   ]
  }
 ],
 "metadata": {
  "kernelspec": {
   "display_name": "Python 2",
   "language": "python",
   "name": "python2"
  },
  "language_info": {
   "codemirror_mode": {
    "name": "ipython",
    "version": 2
   },
   "file_extension": ".py",
   "mimetype": "text/x-python",
   "name": "python",
   "nbconvert_exporter": "python",
   "pygments_lexer": "ipython2",
   "version": "2.7.13"
  }
 },
 "nbformat": 4,
 "nbformat_minor": 2
}
